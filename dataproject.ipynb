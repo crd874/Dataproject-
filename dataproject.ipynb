{
 "cells": [
  {
   "cell_type": "markdown",
   "metadata": {},
   "source": [
    "# YOUR PROJECT TITLE"
   ]
  },
  {
   "attachments": {},
   "cell_type": "markdown",
   "metadata": {},
   "source": [
    "> **Note the following:** \n",
    "> 1. This is *not* meant to be an example of an actual **data analysis project**, just an example of how to structure such a project.\n",
    "> 1. Remember the general advice on structuring and commenting your code\n",
    "> 1. The `dataproject.py` file includes a function which can be used multiple times in this notebook."
   ]
  },
  {
   "cell_type": "markdown",
   "metadata": {},
   "source": [
    "Imports and set magics:"
   ]
  },
  {
   "cell_type": "code",
   "execution_count": 1,
   "metadata": {},
   "outputs": [],
   "source": [
    "import pandas as pd\n",
    "import numpy as np\n",
    "from mpl_toolkits.mplot3d import Axes3D\n",
    "import matplotlib.pyplot as plt\n",
    "import ipywidgets as widgets\n",
    "\n",
    "from matplotlib_venn import venn2sy\n",
    "\n",
    "\n",
    "\n",
    "\n",
    "# autoreload modules when code is run\n",
    "%load_ext autoreload\n",
    "%autoreload 2\n",
    "\n",
    "# user written modules TROR IKKE AT DET HER ER NØDVENDIGT LISE\n",
    "import dataproject\n",
    "\n",
    "# Installing pandas datareader\n",
    "#%pip install pandas-datareader\n",
    "import pandas_datareader # install with `pip install pandas-datareader`\n",
    "import pandas_datareader.data as web\n",
    "import datetime as dt\n",
    "\n"
   ]
  },
  {
   "cell_type": "markdown",
   "metadata": {},
   "source": [
    "# Read and clean data"
   ]
  },
  {
   "cell_type": "code",
   "execution_count": 2,
   "metadata": {},
   "outputs": [
    {
     "data": {
      "text/html": [
       "<div>\n",
       "<style scoped>\n",
       "    .dataframe tbody tr th:only-of-type {\n",
       "        vertical-align: middle;\n",
       "    }\n",
       "\n",
       "    .dataframe tbody tr th {\n",
       "        vertical-align: top;\n",
       "    }\n",
       "\n",
       "    .dataframe thead th {\n",
       "        text-align: right;\n",
       "    }\n",
       "</style>\n",
       "<table border=\"1\" class=\"dataframe\">\n",
       "  <thead>\n",
       "    <tr style=\"text-align: right;\">\n",
       "      <th></th>\n",
       "      <th>Country</th>\n",
       "      <th>Indicator</th>\n",
       "      <th>2020-01-01 00:00:00</th>\n",
       "    </tr>\n",
       "  </thead>\n",
       "  <tbody>\n",
       "    <tr>\n",
       "      <th>46</th>\n",
       "      <td>Australia</td>\n",
       "      <td>Effective labour market exit age, men</td>\n",
       "      <td>64.1</td>\n",
       "    </tr>\n",
       "    <tr>\n",
       "      <th>47</th>\n",
       "      <td>Australia</td>\n",
       "      <td>Effective labour market exit age, women</td>\n",
       "      <td>63.1</td>\n",
       "    </tr>\n",
       "    <tr>\n",
       "      <th>114</th>\n",
       "      <td>Austria</td>\n",
       "      <td>Effective labour market exit age, men</td>\n",
       "      <td>61.6</td>\n",
       "    </tr>\n",
       "    <tr>\n",
       "      <th>115</th>\n",
       "      <td>Austria</td>\n",
       "      <td>Effective labour market exit age, women</td>\n",
       "      <td>60.1</td>\n",
       "    </tr>\n",
       "    <tr>\n",
       "      <th>182</th>\n",
       "      <td>Belgium</td>\n",
       "      <td>Effective labour market exit age, men</td>\n",
       "      <td>60.4</td>\n",
       "    </tr>\n",
       "  </tbody>\n",
       "</table>\n",
       "</div>"
      ],
      "text/plain": [
       "       Country                                Indicator  2020-01-01 00:00:00\n",
       "46   Australia    Effective labour market exit age, men                 64.1\n",
       "47   Australia  Effective labour market exit age, women                 63.1\n",
       "114    Austria    Effective labour market exit age, men                 61.6\n",
       "115    Austria  Effective labour market exit age, women                 60.1\n",
       "182    Belgium    Effective labour market exit age, men                 60.4"
      ]
     },
     "execution_count": 2,
     "metadata": {},
     "output_type": "execute_result"
    }
   ],
   "source": [
    "\n",
    "\n",
    "start_time = dt.datetime(2020,1,1)\n",
    "end_time = dt.datetime(2020,1,1)\n",
    "\n",
    "#Fetching \"Pension at a Glance\" (PAG) dataset for 2020\n",
    "pag = web.DataReader('PAG', 'oecd',start_time, end_time)\n",
    "\n",
    "pag = pag.T.reset_index() #Transposing rows and columns\n",
    "\n",
    "pag.columns.name = None #Removing name from index row\n",
    "\n",
    "\n",
    "# List of variables to keep\n",
    "indicators_to_keep = ['Effective labour market exit age, men', 'Effective labour market exit age, women']\n",
    "\n",
    "# Filter rows such that we keep wanted variables\n",
    "pag = pag.loc[pag['Indicator'].isin(indicators_to_keep)]\n",
    "\n",
    "\n",
    "pag.head()\n"
   ]
  },
  {
   "cell_type": "code",
   "execution_count": 3,
   "metadata": {},
   "outputs": [
    {
     "name": "stdout",
     "output_type": "stream",
     "text": [
      "                                 Indicator    Unit\n",
      "0    Effective labour market exit age, men  62.256\n",
      "0  Effective labour market exit age, women  61.216\n"
     ]
    }
   ],
   "source": [
    "# Renaming last column\n",
    "pag.rename(columns={pag.columns[-1]: 'Unit'}, inplace=True)\n",
    "\n",
    "# Printing unique countries for inspection\n",
    "countries = pag['Country'].unique()\n",
    "\n",
    "# Create list of EU countries. We do this because we want to calculate the means in EU.\n",
    "EU_countries = ['Austria', 'Belgium', 'Bulgaria', 'Croatia', 'Republic of Cyprus', 'Czech Republic', 'Denmark', 'Estonia', 'Finland', 'France', 'Germany', 'Greece', 'Hungary', 'Ireland', 'Italy', 'Latvia', 'Lithuania', 'Luxembourg', 'Malta', 'Netherlands', 'Poland', 'Portugal', 'Romania', 'Slovakia', 'Slovenia', 'Spain', 'Sweden']\n",
    "\n",
    "# Filter dataframe such that we only keep EU countries.\n",
    "pag_eu = pag[pag['Country'].isin(EU_countries)]\n",
    "\n",
    "# Grouping dataframe by market retirement age for men and women and calculate the mean to get the EU mean exit age.\n",
    "eu_mean_exit_age_men = pag_eu.loc[pag_eu['Indicator'] == 'Effective labour market exit age, men'].groupby('Indicator')['Unit'].mean().reset_index()\n",
    "eu_mean_exit_age_women = pag_eu.loc[pag_eu['Indicator'] == 'Effective labour market exit age, women'].groupby('Indicator')['Unit'].mean().reset_index()\n",
    "# Appending the calculated means\n",
    "eu_mean_exit_age = pd.concat([eu_mean_exit_age_men, eu_mean_exit_age_women])\n",
    "\n",
    "print(eu_mean_exit_age)\n"
   ]
  },
  {
   "attachments": {},
   "cell_type": "markdown",
   "metadata": {},
   "source": [
    "We see that the average age of labour market exit in the EU is 62.26 for men and 61.22 for women"
   ]
  },
  {
   "attachments": {},
   "cell_type": "markdown",
   "metadata": {},
   "source": [
    "**Merge**"
   ]
  },
  {
   "cell_type": "code",
   "execution_count": 4,
   "metadata": {},
   "outputs": [],
   "source": [
    "# Merging our pag dataset with the created dataframe contain the EU means. The merge is a m:1\n",
    "pag_merged = pd.merge(pag, eu_mean_exit_age, on='Indicator', how='left')\n",
    "\n",
    "#Renaming columns\n",
    "\n",
    "pag_merged.rename(columns={pag_merged.columns[2]: 'age'}, inplace=True)\n",
    "pag_merged.rename(columns={pag_merged.columns[3]: 'eu_mean'}, inplace=True)\n",
    "pag_merged\n",
    "\n",
    "# Filtering out countries of interest: Denmark, France, Germany, Sweden, UK, Greece\n",
    "\n",
    "countries_of_interest = ['Denmark','France','Germany', 'Sweden', 'United Kingdom']\n",
    "\n",
    "pag_final = pag_merged[pag_merged['Country'].isin(countries_of_interest)]\n",
    "\n",
    "\n"
   ]
  },
  {
   "attachments": {},
   "cell_type": "markdown",
   "metadata": {},
   "source": [
    "**Creating plot of effective labour market exit for men and women in each country**"
   ]
  },
  {
   "cell_type": "code",
   "execution_count": 8,
   "metadata": {},
   "outputs": [
    {
     "data": {
      "image/png": "[encoded data removed]",
      "text/plain": [
       "<Figure size 640x480 with 1 Axes>"
      ]
     },
     "metadata": {},
     "output_type": "display_data"
    }
   ],
   "source": [
    "\n",
    "\n",
    "# Transforming data such that 'Effective labour market exit age, men' and 'Effective labour market exit age, women' have their own columns. This is done to create the bar charts later.\n",
    "pag_pivot = pag_final.pivot_table(index='Country', columns='Indicator', values='age').reset_index()\n",
    "\n",
    "# Setting bar width\n",
    "bar_width = 0.4\n",
    "\n",
    "# Generating sequence of x-values to determine x-coordinates\n",
    "x_values = np.arange(len(pag_pivot['Country']))\n",
    "\n",
    "\n",
    "\n",
    "# Creating figure and axis objects\n",
    "fig, ax = plt.subplots()\n",
    "\n",
    "ax.bar(x_values, pag_pivot['Effective labour market exit age, men'], label='Men', color='b', width=bar_width)\n",
    "ax.bar(x_values + bar_width, pag_pivot['Effective labour market exit age, women'], label='Women', color='r', width=bar_width) #Adding bar_width such they don't overlap\n",
    "ax.set_xticks(x_values)\n",
    "ax.set_xticklabels(pag_pivot['Country'])\n",
    "ax.set_xlabel('Country')\n",
    "ax.set_ylabel('Effective labour market exit age')\n",
    "ax.set_title('Age of labour market exit by gender and country')\n",
    "ax.legend()\n",
    "\n",
    "# Setting y-axis range\n",
    "ax.set_ylim([55, 66])\n",
    "\n",
    "plt.show()\n",
    "\n"
   ]
  },
  {
   "attachments": {},
   "cell_type": "markdown",
   "metadata": {},
   "source": [
    "We see that France has the lowest effective age of labour market exit while Sweden and Denmark have the highest."
   ]
  },
  {
   "attachments": {},
   "cell_type": "markdown",
   "metadata": {},
   "source": [
    "**Demeaning ages**\n"
   ]
  },
  {
   "attachments": {},
   "cell_type": "markdown",
   "metadata": {},
   "source": [
    "We now want to demean the ages to see how much the retirement ages differ from the EU mean"
   ]
  },
  {
   "cell_type": "code",
   "execution_count": 11,
   "metadata": {},
   "outputs": [
    {
     "name": "stderr",
     "output_type": "stream",
     "text": [
      "/var/folders/sf/sxm8_0k95c3cbxbg_3_hjh0h0000gn/T/ipykernel_58808/702759376.py:6: SettingWithCopyWarning: \n",
      "A value is trying to be set on a copy of a slice from a DataFrame.\n",
      "Try using .loc[row_indexer,col_indexer] = value instead\n",
      "\n",
      "See the caveats in the documentation: https://pandas.pydata.org/pandas-docs/stable/user_guide/indexing.html#returning-a-view-versus-a-copy\n",
      "  pag_final['age_demeaned'] = pag_final.age-pag_final.eu_mean\n"
     ]
    }
   ],
   "source": [
    "\n",
    "# Demean for men and women\n",
    "pag_final['age_demeaned'] = pag_final.age-pag_final.eu_mean\n"
   ]
  },
  {
   "attachments": {},
   "cell_type": "markdown",
   "metadata": {},
   "source": [
    "Plot of demeaned age"
   ]
  },
  {
   "cell_type": "code",
   "execution_count": 18,
   "metadata": {},
   "outputs": [
    {
     "data": {
      "image/png": "[encoded data removed]",
      "text/plain": [
       "<Figure size 640x480 with 1 Axes>"
      ]
     },
     "metadata": {},
     "output_type": "display_data"
    }
   ],
   "source": [
    "\n",
    "# We now pivot the data such that we the data grouped by country as index and the demeaned ages for men and women as columns.\n",
    "pag_pivot_2 = pd.pivot_table(pag_final, values='age_demeaned', index=['Country'], columns=['Indicator'])\n",
    "# Renaming columns and index in new dataframe\n",
    "pag_pivot_2.columns = ['age_demeaned_men', 'age_demeaned_women']\n",
    "\n",
    "\n",
    "# Plottin pivot table\n",
    "ax = pag_pivot_2.plot(kind='bar')\n",
    "ax.set_title('Demeaned age of effective labour market exit by country and gender')\n",
    "ax.set_xlabel('Country')\n",
    "ax.set_ylabel('Years')\n",
    "ax.legend(labels=['Men', 'Women'])\n",
    "plt.show()"
   ]
  },
  {
   "attachments": {},
   "cell_type": "markdown",
   "metadata": {},
   "source": [
    "In the above plot we see that the age of labour market exit is above the EU means for all countries but France."
   ]
  }
 ],
 "metadata": {
  "kernelspec": {
   "display_name": "base",
   "language": "python",
   "name": "python3"
  },
  "language_info": {
   "codemirror_mode": {
    "name": "ipython",
    "version": 3
   },
   "file_extension": ".py",
   "mimetype": "text/x-python",
   "name": "python",
   "nbconvert_exporter": "python",
   "pygments_lexer": "ipython3",
   "version": "3.9.13"
  },
  "toc-autonumbering": true,
  "vscode": {
   "interpreter": {
    "hash": "40d3a090f54c6569ab1632332b64b2c03c39dcf918b08424e98f38b5ae0af88f"
   }
  }
 },
 "nbformat": 4,
 "nbformat_minor": 4
}
